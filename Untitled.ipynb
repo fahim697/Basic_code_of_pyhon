{
 "cells": [
  {
   "cell_type": "markdown",
   "id": "50d5053c",
   "metadata": {},
   "source": [
    "\n",
    "# Basic"
   ]
  },
  {
   "cell_type": "code",
   "execution_count": 2,
   "id": "c39dccac",
   "metadata": {},
   "outputs": [
    {
     "name": "stdout",
     "output_type": "stream",
     "text": [
      "Hello world\n"
     ]
    }
   ],
   "source": [
    "print('Hello world')"
   ]
  },
  {
   "cell_type": "code",
   "execution_count": 4,
   "id": "aa50068d",
   "metadata": {},
   "outputs": [
    {
     "name": "stdout",
     "output_type": "stream",
     "text": [
      "Hello world\n",
      "Hello world\n",
      "Hello world\n"
     ]
    }
   ],
   "source": [
    "print('Hello world')\n",
    "print('Hello world')\n",
    "print('Hello world')"
   ]
  },
  {
   "cell_type": "code",
   "execution_count": 5,
   "id": "8bf30138",
   "metadata": {},
   "outputs": [
    {
     "name": "stdout",
     "output_type": "stream",
     "text": [
      "Hello world\n",
      "Hello world\n",
      "\n",
      "\n",
      "Hello world\n"
     ]
    }
   ],
   "source": [
    "print('Hello world')\n",
    "print('Hello world')\n",
    "print(\"\\n\")\n",
    "print('Hello world')"
   ]
  },
  {
   "cell_type": "markdown",
   "id": "632d6f30",
   "metadata": {},
   "source": [
    "# \"\\n\"new line tag"
   ]
  },
  {
   "cell_type": "code",
   "execution_count": 9,
   "id": "304c48d1",
   "metadata": {},
   "outputs": [
    {
     "name": "stdout",
     "output_type": "stream",
     "text": [
      "a=***3"
     ]
    }
   ],
   "source": [
    "a=3\n",
    "print(\"a=\", a,sep='***',end='')"
   ]
  },
  {
   "cell_type": "code",
   "execution_count": 11,
   "id": "e7cbf173",
   "metadata": {},
   "outputs": [
    {
     "name": "stdout",
     "output_type": "stream",
     "text": [
      "90\n"
     ]
    }
   ],
   "source": [
    "x_y=90\n",
    "print(x_y)"
   ]
  },
  {
   "cell_type": "code",
   "execution_count": 13,
   "id": "9ea5f294",
   "metadata": {},
   "outputs": [
    {
     "name": "stdout",
     "output_type": "stream",
     "text": [
      "125\n"
     ]
    }
   ],
   "source": [
    "x=60\n",
    "y=65\n",
    "print(x+y)"
   ]
  },
  {
   "cell_type": "code",
   "execution_count": 15,
   "id": "2085ecff",
   "metadata": {},
   "outputs": [
    {
     "data": {
      "text/plain": [
       "25"
      ]
     },
     "execution_count": 15,
     "metadata": {},
     "output_type": "execute_result"
    }
   ],
   "source": [
    "x=10\n",
    "sum((x,15))"
   ]
  },
  {
   "cell_type": "code",
   "execution_count": 16,
   "id": "163835eb",
   "metadata": {},
   "outputs": [],
   "source": [
    "import os"
   ]
  },
  {
   "cell_type": "code",
   "execution_count": 17,
   "id": "85e0c461",
   "metadata": {},
   "outputs": [
    {
     "data": {
      "text/plain": [
       "'C:\\\\Users\\\\User'"
      ]
     },
     "execution_count": 17,
     "metadata": {},
     "output_type": "execute_result"
    }
   ],
   "source": [
    "os.getcwd()"
   ]
  },
  {
   "cell_type": "code",
   "execution_count": 18,
   "id": "0f64a5f0",
   "metadata": {},
   "outputs": [
    {
     "name": "stdout",
     "output_type": "stream",
     "text": [
      "5\n"
     ]
    }
   ],
   "source": [
    "x='royal'\n",
    "y=len(x)\n",
    "print(y)"
   ]
  },
  {
   "cell_type": "code",
   "execution_count": 20,
   "id": "2c54b3d3",
   "metadata": {},
   "outputs": [
    {
     "name": "stdout",
     "output_type": "stream",
     "text": [
      "Royal\n"
     ]
    }
   ],
   "source": [
    "x='royal'\n",
    "y=x.capitalize()\n",
    "print(y)"
   ]
  },
  {
   "cell_type": "code",
   "execution_count": 21,
   "id": "e441b24b",
   "metadata": {},
   "outputs": [
    {
     "name": "stdout",
     "output_type": "stream",
     "text": [
      "ROYAL\n"
     ]
    }
   ],
   "source": [
    "x='royal'\n",
    "y=x.upper()\n",
    "print(y)"
   ]
  },
  {
   "cell_type": "code",
   "execution_count": 22,
   "id": "3c167905",
   "metadata": {},
   "outputs": [
    {
     "name": "stdout",
     "output_type": "stream",
     "text": [
      "royal\n"
     ]
    }
   ],
   "source": [
    "x='royal'\n",
    "y=x.lower()\n",
    "print(y)"
   ]
  },
  {
   "cell_type": "code",
   "execution_count": 23,
   "id": "0d907fb1",
   "metadata": {},
   "outputs": [
    {
     "name": "stdout",
     "output_type": "stream",
     "text": [
      "ROYAL\n"
     ]
    }
   ],
   "source": [
    "x='royal'\n",
    "y=x.swapcase()\n",
    "print(y)"
   ]
  },
  {
   "cell_type": "code",
   "execution_count": 25,
   "id": "20bae266",
   "metadata": {},
   "outputs": [
    {
     "name": "stdout",
     "output_type": "stream",
     "text": [
      "ROYAL\n"
     ]
    }
   ],
   "source": [
    "x='royal'\n",
    "y=x.swapcase()\n",
    "print(y)"
   ]
  },
  {
   "cell_type": "code",
   "execution_count": 27,
   "id": "9f91f059",
   "metadata": {},
   "outputs": [
    {
     "name": "stdout",
     "output_type": "stream",
     "text": [
      "rased has 5 apples\n"
     ]
    }
   ],
   "source": [
    "name=\"rased\"\n",
    "apple=5\n",
    "print(\"%s has %i apples\"%(name,apple))"
   ]
  },
  {
   "cell_type": "markdown",
   "id": "6648471a",
   "metadata": {},
   "source": [
    "# string rules no 01 '%' use before variable configare"
   ]
  },
  {
   "cell_type": "code",
   "execution_count": 31,
   "id": "30e42a8e",
   "metadata": {},
   "outputs": [
    {
     "name": "stdout",
     "output_type": "stream",
     "text": [
      "Rased has 5 apples\n"
     ]
    }
   ],
   "source": [
    "name=\"Rased\"\n",
    "apples=5\n",
    "x=\"{0} has {1} apples\".format(name,apples)\n",
    "print(x)"
   ]
  },
  {
   "cell_type": "code",
   "execution_count": 38,
   "id": "d600b1b6",
   "metadata": {},
   "outputs": [
    {
     "name": "stdout",
     "output_type": "stream",
     "text": [
      "5 has Rased apples\n"
     ]
    }
   ],
   "source": [
    "name=\"Rased\"\n",
    "apples=5\n",
    "x=\"{0} has {1} apples\".format(apples,name)\n",
    "print(x)"
   ]
  },
  {
   "cell_type": "code",
   "execution_count": 40,
   "id": "8dab85fd",
   "metadata": {},
   "outputs": [
    {
     "name": "stdout",
     "output_type": "stream",
     "text": [
      "Rased has 5 apples\n"
     ]
    }
   ],
   "source": [
    "name=\"Rased\"\n",
    "apples=5\n",
    "print(f\"{name} has {apples} apples\")"
   ]
  },
  {
   "cell_type": "markdown",
   "id": "07b8636d",
   "metadata": {},
   "source": [
    "# User input"
   ]
  },
  {
   "cell_type": "code",
   "execution_count": 43,
   "id": "cfe28525",
   "metadata": {},
   "outputs": [
    {
     "name": "stdout",
     "output_type": "stream",
     "text": [
      "Enter name: Royal University of Dhaka\n",
      "Royal University of Dhaka\n"
     ]
    }
   ],
   "source": [
    "x= input(\"Enter name: \")\n",
    "print(x)"
   ]
  },
  {
   "cell_type": "code",
   "execution_count": 44,
   "id": "c19edc67",
   "metadata": {},
   "outputs": [
    {
     "name": "stdout",
     "output_type": "stream",
     "text": [
      "Enter name: Royal University of Dhaka\n",
      "Royal University of Dhaka\n"
     ]
    }
   ],
   "source": [
    "x=str (input(\"Enter name: \"))\n",
    "print(x)"
   ]
  },
  {
   "cell_type": "code",
   "execution_count": 45,
   "id": "eb9fb3cc",
   "metadata": {},
   "outputs": [
    {
     "name": "stdout",
     "output_type": "stream",
     "text": [
      "Enter name: 06110308\n",
      "6110308\n"
     ]
    }
   ],
   "source": [
    "x= int(input(\"Enter name: \"))\n",
    "print(x)"
   ]
  },
  {
   "cell_type": "code",
   "execution_count": 46,
   "id": "c8f0bb03",
   "metadata": {},
   "outputs": [
    {
     "data": {
      "text/plain": [
       "float"
      ]
     },
     "execution_count": 46,
     "metadata": {},
     "output_type": "execute_result"
    }
   ],
   "source": [
    "x=10.22555489\n",
    "type(x)"
   ]
  },
  {
   "cell_type": "code",
   "execution_count": 47,
   "id": "f8b964af",
   "metadata": {},
   "outputs": [
    {
     "data": {
      "text/plain": [
       "2096579635792"
      ]
     },
     "execution_count": 47,
     "metadata": {},
     "output_type": "execute_result"
    }
   ],
   "source": [
    "x=10\n",
    "id(x)"
   ]
  },
  {
   "cell_type": "markdown",
   "id": "2cbe6187",
   "metadata": {},
   "source": [
    "# id means pysical layout adress"
   ]
  },
  {
   "cell_type": "code",
   "execution_count": 52,
   "id": "f2d6f6b1",
   "metadata": {},
   "outputs": [
    {
     "data": {
      "text/plain": [
       "2096665970800"
      ]
     },
     "execution_count": 52,
     "metadata": {},
     "output_type": "execute_result"
    }
   ],
   "source": [
    "x=str(\"Royal\")\n",
    "id(x)"
   ]
  },
  {
   "cell_type": "markdown",
   "id": "a56b6ce1",
   "metadata": {},
   "source": [
    "# join fn"
   ]
  },
  {
   "cell_type": "code",
   "execution_count": 54,
   "id": "0a4f52c7",
   "metadata": {},
   "outputs": [
    {
     "name": "stdout",
     "output_type": "stream",
     "text": [
      "Royal University of Dhaka\n"
     ]
    }
   ],
   "source": [
    "a= ['Royal', 'University','of','Dhaka']\n",
    "print(' '.join(a))"
   ]
  },
  {
   "cell_type": "code",
   "execution_count": 55,
   "id": "b4f9aca1",
   "metadata": {},
   "outputs": [
    {
     "name": "stdout",
     "output_type": "stream",
     "text": [
      "['Royal', 'University', 'of', 'Dhaka']\n"
     ]
    }
   ],
   "source": [
    "a='Royal University of Dhaka'\n",
    "x=a.split()\n",
    "print(x)"
   ]
  },
  {
   "cell_type": "markdown",
   "id": "fb6e2fcc",
   "metadata": {},
   "source": [
    "# IF-ELSE"
   ]
  },
  {
   "cell_type": "code",
   "execution_count": 57,
   "id": "1ef143b3",
   "metadata": {},
   "outputs": [
    {
     "name": "stdout",
     "output_type": "stream",
     "text": [
      "y is greater\n"
     ]
    }
   ],
   "source": [
    "x=30\n",
    "y=60\n",
    "if x>y:\n",
    "  print('x is greater')\n",
    "else:\n",
    "        print('y is greater')"
   ]
  },
  {
   "cell_type": "code",
   "execution_count": 59,
   "id": "2895c2b6",
   "metadata": {},
   "outputs": [
    {
     "name": "stdout",
     "output_type": "stream",
     "text": [
      "Enter Temperature: 26\n",
      "26.0\n",
      "too hot\n"
     ]
    }
   ],
   "source": [
    "x=float(input(\"Enter Temperature: \"))\n",
    "print(x)\n",
    "if x>25:\n",
    "    print('too hot')\n",
    "else:\n",
    "    print('Normal')"
   ]
  },
  {
   "cell_type": "code",
   "execution_count": 63,
   "id": "5515f75c",
   "metadata": {},
   "outputs": [
    {
     "name": "stdout",
     "output_type": "stream",
     "text": [
      "Enter number: 50\n",
      "50.0\n",
      "F\n"
     ]
    }
   ],
   "source": [
    "x=float(input(\"Enter number: \"))\n",
    "print(x)\n",
    "if x>100:\n",
    "    print('Error')\n",
    "elif x>80:\n",
    "    print('A+')\n",
    "elif x>=70:\n",
    "    print('A')\n",
    "elif x>=70:\n",
    "    print('A-')\n",
    "elif x>=70:\n",
    "    print('B')\n",
    "else:\n",
    "    print('F')"
   ]
  },
  {
   "cell_type": "code",
   "execution_count": 66,
   "id": "15073f6f",
   "metadata": {},
   "outputs": [
    {
     "name": "stdout",
     "output_type": "stream",
     "text": [
      "Enter number: 36\n",
      "36.0\n",
      "Even\n"
     ]
    }
   ],
   "source": [
    "x=float(input(\"Enter number: \"))\n",
    "print(x)\n",
    "if x%2==0:\n",
    "    print('Even')\n",
    "else:\n",
    "    print('Odd')"
   ]
  }
 ],
 "metadata": {
  "kernelspec": {
   "display_name": "Python 3 (ipykernel)",
   "language": "python",
   "name": "python3"
  },
  "language_info": {
   "codemirror_mode": {
    "name": "ipython",
    "version": 3
   },
   "file_extension": ".py",
   "mimetype": "text/x-python",
   "name": "python",
   "nbconvert_exporter": "python",
   "pygments_lexer": "ipython3",
   "version": "3.9.12"
  }
 },
 "nbformat": 4,
 "nbformat_minor": 5
}
